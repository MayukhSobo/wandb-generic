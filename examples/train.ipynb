{
  "cells": [
    {
      "cell_type": "code",
      "execution_count": 1,
      "metadata": {},
      "outputs": [],
      "source": [
        "import random\n",
        "import time\n",
        "from wandb_generic import WandbGenericLogger"
      ]
    },
    {
      "cell_type": "code",
      "execution_count": 2,
      "metadata": {},
      "outputs": [],
      "source": [
        "CONFIG_PATH = \"sample.config.yaml\""
      ]
    },
    {
      "cell_type": "code",
      "execution_count": 3,
      "metadata": {},
      "outputs": [],
      "source": [
        "@WandbGenericLogger(config_path=CONFIG_PATH)\n",
        "def train_model(wandb_run=None):\n",
        "    for i in range(10):\n",
        "        epoch = i + 1\n",
        "        loss = random.random()\n",
        "        accuracy = random.random()\n",
        "        print(f\"Epoch {epoch}: loss={loss:.3f}, accuracy={accuracy:.3f}\")\n",
        "        time.sleep(0.3)  # Small delay to simulate some work"
      ]
    },
    {
      "cell_type": "code",
      "execution_count": 4,
      "metadata": {},
      "outputs": [
        {
          "name": "stderr",
          "output_type": "stream",
          "text": [
            "\u001b[34m\u001b[1mwandb\u001b[0m: Currently logged in as: \u001b[33mmayukhsarkar\u001b[0m (\u001b[33mthedatageek\u001b[0m) to \u001b[32mhttps://api.wandb.ai\u001b[0m. Use \u001b[1m`wandb login --relogin`\u001b[0m to force relogin\n"
          ]
        },
        {
          "data": {
            "text/html": [
              "creating run (0.0s)"
            ],
            "text/plain": [
              "<IPython.core.display.HTML object>"
            ]
          },
          "metadata": {},
          "output_type": "display_data"
        },
        {
          "data": {
            "text/html": [
              "Tracking run with wandb version 0.21.3"
            ],
            "text/plain": [
              "<IPython.core.display.HTML object>"
            ]
          },
          "metadata": {},
          "output_type": "display_data"
        },
        {
          "data": {
            "text/html": [
              "Run data is saved locally in <code>/Users/thedatageek/Developer/wandb-generic/examples/wandb/run-20250903_001114-j03g3rm4</code>"
            ],
            "text/plain": [
              "<IPython.core.display.HTML object>"
            ]
          },
          "metadata": {},
          "output_type": "display_data"
        },
        {
          "data": {
            "text/html": [
              "Syncing run <strong><a href='https://wandb.ai/thedatageek/wandb-generic-demo/runs/j03g3rm4' target=\"_blank\">olive-sunset-1</a></strong> to <a href='https://wandb.ai/thedatageek/wandb-generic-demo' target=\"_blank\">Weights & Biases</a> (<a href='https://wandb.me/developer-guide' target=\"_blank\">docs</a>)<br>"
            ],
            "text/plain": [
              "<IPython.core.display.HTML object>"
            ]
          },
          "metadata": {},
          "output_type": "display_data"
        },
        {
          "data": {
            "text/html": [
              " View project at <a href='https://wandb.ai/thedatageek/wandb-generic-demo' target=\"_blank\">https://wandb.ai/thedatageek/wandb-generic-demo</a>"
            ],
            "text/plain": [
              "<IPython.core.display.HTML object>"
            ]
          },
          "metadata": {},
          "output_type": "display_data"
        },
        {
          "data": {
            "text/html": [
              " View run at <a href='https://wandb.ai/thedatageek/wandb-generic-demo/runs/j03g3rm4' target=\"_blank\">https://wandb.ai/thedatageek/wandb-generic-demo/runs/j03g3rm4</a>"
            ],
            "text/plain": [
              "<IPython.core.display.HTML object>"
            ]
          },
          "metadata": {},
          "output_type": "display_data"
        },
        {
          "name": "stdout",
          "output_type": "stream",
          "text": [
            "Epoch 1: loss=0.157, accuracy=0.272\n",
            "Epoch 2: loss=0.419, accuracy=0.646\n",
            "Epoch 3: loss=0.117, accuracy=0.279\n",
            "Epoch 4: loss=0.086, accuracy=0.948\n",
            "Epoch 5: loss=0.519, accuracy=0.805\n",
            "Epoch 6: loss=0.269, accuracy=0.968\n",
            "Epoch 7: loss=0.626, accuracy=0.812\n",
            "Epoch 8: loss=0.003, accuracy=0.896\n",
            "Epoch 9: loss=0.851, accuracy=0.067\n",
            "Epoch 10: loss=0.226, accuracy=0.711\n"
          ]
        },
        {
          "name": "stderr",
          "output_type": "stream",
          "text": [
            "\u001b[34m\u001b[1mwandb\u001b[0m: \u001b[32m\u001b[41mERROR\u001b[0m The nbformat package was not found. It is required to save notebook history.\n"
          ]
        },
        {
          "data": {
            "text/html": [],
            "text/plain": [
              "<IPython.core.display.HTML object>"
            ]
          },
          "metadata": {},
          "output_type": "display_data"
        },
        {
          "data": {
            "text/html": [
              "<br>    <style><br>        .wandb-row {<br>            display: flex;<br>            flex-direction: row;<br>            flex-wrap: wrap;<br>            justify-content: flex-start;<br>            width: 100%;<br>        }<br>        .wandb-col {<br>            display: flex;<br>            flex-direction: column;<br>            flex-basis: 100%;<br>            flex: 1;<br>            padding: 10px;<br>        }<br>    </style><br><div class=\"wandb-row\"><div class=\"wandb-col\"><h3>Run history:</h3><br/><table class=\"wandb\"><tr><td>accuracy</td><td>▃▅▃█▇█▇▇▁▆</td></tr><tr><td>epoch</td><td>▁▂▃▃▄▅▆▆▇█</td></tr><tr><td>loss</td><td>▂▄▂▂▅▃▆▁█▃</td></tr><tr><td>step</td><td>▁▂▃▃▄▅▆▆▇█</td></tr></table><br/></div><div class=\"wandb-col\"><h3>Run summary:</h3><br/><table class=\"wandb\"><tr><td>accuracy</td><td>0.71065</td></tr><tr><td>epoch</td><td>10</td></tr><tr><td>loss</td><td>0.22576</td></tr><tr><td>step</td><td>9</td></tr></table><br/></div></div>"
            ],
            "text/plain": [
              "<IPython.core.display.HTML object>"
            ]
          },
          "metadata": {},
          "output_type": "display_data"
        },
        {
          "data": {
            "text/html": [
              " View run <strong style=\"color:#cdcd00\">olive-sunset-1</strong> at: <a href='https://wandb.ai/thedatageek/wandb-generic-demo/runs/j03g3rm4' target=\"_blank\">https://wandb.ai/thedatageek/wandb-generic-demo/runs/j03g3rm4</a><br> View project at: <a href='https://wandb.ai/thedatageek/wandb-generic-demo' target=\"_blank\">https://wandb.ai/thedatageek/wandb-generic-demo</a><br>Synced 5 W&B file(s), 0 media file(s), 0 artifact file(s) and 0 other file(s)"
            ],
            "text/plain": [
              "<IPython.core.display.HTML object>"
            ]
          },
          "metadata": {},
          "output_type": "display_data"
        },
        {
          "data": {
            "text/html": [
              "Find logs at: <code>./wandb/run-20250903_001114-j03g3rm4/logs</code>"
            ],
            "text/plain": [
              "<IPython.core.display.HTML object>"
            ]
          },
          "metadata": {},
          "output_type": "display_data"
        },
        {
          "name": "stdout",
          "output_type": "stream",
          "text": [
            "✅ None\n"
          ]
        }
      ],
      "source": [
        "result = train_model()\n",
        "print(f\"✅ {result}\")"
      ]
    },
    {
      "cell_type": "code",
      "execution_count": null,
      "metadata": {},
      "outputs": [],
      "source": []
    }
  ],
  "metadata": {
    "kernelspec": {
      "display_name": "base",
      "language": "python",
      "name": "python3"
    },
    "language_info": {
      "codemirror_mode": {
        "name": "ipython",
        "version": 3
      },
      "file_extension": ".py",
      "mimetype": "text/x-python",
      "name": "python",
      "nbconvert_exporter": "python",
      "pygments_lexer": "ipython3",
      "version": "3.12.2"
    }
  },
  "nbformat": 4,
  "nbformat_minor": 2
}
